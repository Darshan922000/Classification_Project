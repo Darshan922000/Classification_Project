{
 "cells": [
  {
   "cell_type": "code",
   "execution_count": 197,
   "metadata": {},
   "outputs": [],
   "source": [
    "import requests\n",
    "import pandas as pd"
   ]
  },
  {
   "cell_type": "code",
   "execution_count": 198,
   "metadata": {},
   "outputs": [],
   "source": [
    "df = pd.read_csv(\"Data/out_of_sample.csv\")\n",
    "df.columns = df.columns.str.strip()\n",
    "df.drop(['Unnamed: 0', 'Bankrupt?'], axis=1, inplace=True)\n",
    "df[\"Liability-Assets Flag\"] = df[\"Liability-Assets Flag\"].astype(float)"
   ]
  },
  {
   "cell_type": "code",
   "execution_count": 223,
   "metadata": {},
   "outputs": [],
   "source": [
    "input_feature = df.iloc[1].to_list()"
   ]
  },
  {
   "cell_type": "code",
   "execution_count": 226,
   "metadata": {},
   "outputs": [
    {
     "data": {
      "text/plain": [
       "[0.464290937454297,\n",
       " 0.610235085544617,\n",
       " 0.998945978205482,\n",
       " 0.303556430290771,\n",
       " 0.0002897850537287,\n",
       " 0.0,\n",
       " 0.461867257156757,\n",
       " 0.0006470647064706,\n",
       " 0.0,\n",
       " 0.182251064009102,\n",
       " 0.2089439349532,\n",
       " 0.318136804131004,\n",
       " 0.0211443350424248,\n",
       " 0.0220801698690499,\n",
       " 0.848087883815147,\n",
       " 0.689692901209989,\n",
       " 0.217619596450422,\n",
       " 6110000000.0,\n",
       " 0.0004430401005442,\n",
       " 0.264515778104141,\n",
       " 0.376709139003763,\n",
       " 0.0060162058776727,\n",
       " 0.0040393668269104,\n",
       " 0.635172463390912,\n",
       " 0.0125023937843679,\n",
       " 0.171176346101521,\n",
       " 0.0050588817540408,\n",
       " 0.376760019951553,\n",
       " 0.0058350394852296,\n",
       " 0.397724882539793,\n",
       " 0.0644677661169415,\n",
       " 0.0012863563044647,\n",
       " 0.004916807917444,\n",
       " 9360000000.0,\n",
       " 719000000.0,\n",
       " 0.0254838709677419,\n",
       " 0.0068886506176284,\n",
       " 0.39158996856697,\n",
       " 0.0123349721287826,\n",
       " 0.751110917003808,\n",
       " 0.127236002293688,\n",
       " 0.182419054120616,\n",
       " 0.0149477269714099,\n",
       " 0.004136029760799,\n",
       " 0.0013839100814699,\n",
       " 0.28964157642601,\n",
       " 0.0052096823995494,\n",
       " 0.30858859304371,\n",
       " 0.731975288512351,\n",
       " 0.0239468186673397,\n",
       " 0.931065217577487,\n",
       " 0.0022256083431017,\n",
       " 0.0255158599950638,\n",
       " 0.0001065197627902,\n",
       " 7700000000.0,\n",
       " 0.59391554785427,\n",
       " 2490000000.0,\n",
       " 0.468828128338473,\n",
       " 0.64109998470196,\n",
       " 0.459001053294128,\n",
       " 0.567101308703163,\n",
       " 0.314163135184666,\n",
       " 0.0477752815903248,\n",
       " 0.0,\n",
       " 0.0083233017948103,\n",
       " 0.623651741728055,\n",
       " 0.264576819837375,\n",
       " 0.570174946412453,\n",
       " 0.020794306334635]"
      ]
     },
     "execution_count": 226,
     "metadata": {},
     "output_type": "execute_result"
    }
   ],
   "source": [
    "input_feature"
   ]
  },
  {
   "cell_type": "code",
   "execution_count": 219,
   "metadata": {},
   "outputs": [],
   "source": [
    "url = \"http://127.0.0.1:8000/predict/\" \n",
    "#http://localhost:8000/\n"
   ]
  },
  {
   "cell_type": "code",
   "execution_count": null,
   "metadata": {},
   "outputs": [
    {
     "name": "stdout",
     "output_type": "stream",
     "text": [
      "Prediction: 0\n"
     ]
    }
   ],
   "source": [
    "# response = requests.post(url, json={\"features\": input_feature})\n",
    "\n",
    "# if response.status_code == 200:\n",
    "#     print(\"Prediction:\", response.json()[\"prediction\"])\n",
    "# else:\n",
    "#     print(\"Error:\", response.json()[\"detail\"])"
   ]
  },
  {
   "cell_type": "code",
   "execution_count": 225,
   "metadata": {},
   "outputs": [
    {
     "name": "stdout",
     "output_type": "stream",
     "text": [
      "Prediction: Not Bankrupt!! Safe!!\n",
      "Probability of Bankrupt: 4.46%\n"
     ]
    }
   ],
   "source": [
    "response = requests.post(url, json={\"features\": input_feature})\n",
    "\n",
    "if response.status_code == 200:\n",
    "    result = response.json()\n",
    "    print(\"Prediction:\", result[\"prediction\"])\n",
    "    p = result[\"probability\"]\n",
    "    print(f\"Probability of Bankrupt: {p}\")\n",
    "else:\n",
    "    print(\"Error:\", response.json().get(\"detail\", \"Unknown error\"))\n"
   ]
  },
  {
   "cell_type": "code",
   "execution_count": null,
   "metadata": {},
   "outputs": [],
   "source": []
  }
 ],
 "metadata": {
  "kernelspec": {
   "display_name": ".venv",
   "language": "python",
   "name": "python3"
  },
  "language_info": {
   "codemirror_mode": {
    "name": "ipython",
    "version": 3
   },
   "file_extension": ".py",
   "mimetype": "text/x-python",
   "name": "python",
   "nbconvert_exporter": "python",
   "pygments_lexer": "ipython3",
   "version": "3.10.11"
  }
 },
 "nbformat": 4,
 "nbformat_minor": 2
}
