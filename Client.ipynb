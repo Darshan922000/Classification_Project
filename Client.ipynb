{
 "cells": [
  {
   "cell_type": "code",
   "execution_count": 228,
   "metadata": {},
   "outputs": [],
   "source": [
    "import requests\n",
    "import pandas as pd"
   ]
  },
  {
   "cell_type": "code",
   "execution_count": 234,
   "metadata": {},
   "outputs": [],
   "source": [
    "df = pd.read_csv(\"Data/out_of_sample.csv\")\n",
    "df.columns = df.columns.str.strip()\n",
    "df.drop(['Unnamed: 0', 'Bankrupt?'], axis=1, inplace=True)\n",
    "df[\"Liability-Assets Flag\"] = df[\"Liability-Assets Flag\"].astype(float)"
   ]
  },
  {
   "cell_type": "code",
   "execution_count": 238,
   "metadata": {},
   "outputs": [],
   "source": [
    "input_feature = df.iloc[1].to_list()"
   ]
  },
  {
   "cell_type": "code",
   "execution_count": 241,
   "metadata": {},
   "outputs": [],
   "source": [
    "#input_feature"
   ]
  },
  {
   "cell_type": "code",
   "execution_count": 236,
   "metadata": {},
   "outputs": [],
   "source": [
    "url = \"http://127.0.0.1:8000/predict/\" \n",
    "#http://localhost:8000/\n"
   ]
  },
  {
   "cell_type": "code",
   "execution_count": null,
   "metadata": {},
   "outputs": [
    {
     "name": "stdout",
     "output_type": "stream",
     "text": [
      "Prediction: 0\n"
     ]
    }
   ],
   "source": [
    "# response = requests.post(url, json={\"features\": input_feature})\n",
    "\n",
    "# if response.status_code == 200:\n",
    "#     print(\"Prediction:\", response.json()[\"prediction\"])\n",
    "# else:\n",
    "#     print(\"Error:\", response.json()[\"detail\"])"
   ]
  },
  {
   "cell_type": "code",
   "execution_count": 239,
   "metadata": {},
   "outputs": [
    {
     "name": "stdout",
     "output_type": "stream",
     "text": [
      "Prediction: Not Bankrupt!! Safe!!\n",
      "Probability of Bankrupt: 4.46%\n"
     ]
    }
   ],
   "source": [
    "response = requests.post(url, json={\"features\": input_feature})\n",
    "\n",
    "if response.status_code == 200:\n",
    "    result = response.json()\n",
    "    print(\"Prediction:\", result[\"prediction\"])\n",
    "    p = result[\"probability\"]\n",
    "    print(f\"Probability of Bankrupt: {p}\")\n",
    "else:\n",
    "    print(\"Error:\", response.json().get(\"detail\", \"Unknown error\"))\n"
   ]
  },
  {
   "cell_type": "code",
   "execution_count": null,
   "metadata": {},
   "outputs": [],
   "source": []
  }
 ],
 "metadata": {
  "kernelspec": {
   "display_name": ".venv",
   "language": "python",
   "name": "python3"
  },
  "language_info": {
   "codemirror_mode": {
    "name": "ipython",
    "version": 3
   },
   "file_extension": ".py",
   "mimetype": "text/x-python",
   "name": "python",
   "nbconvert_exporter": "python",
   "pygments_lexer": "ipython3",
   "version": "3.10.11"
  }
 },
 "nbformat": 4,
 "nbformat_minor": 2
}
